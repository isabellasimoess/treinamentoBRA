{
 "cells": [
  {
   "cell_type": "markdown",
   "metadata": {
    "application/vnd.databricks.v1+cell": {
     "cellMetadata": {
      "byteLimit": 2048000,
      "rowLimit": 10000
     },
     "inputWidgets": {},
     "nuid": "b03b13fc-0671-4ee4-a0da-7039efe90745",
     "showTitle": false,
     "title": ""
    }
   },
   "source": [
    "#### Descrição do negócio \n",
    "\n",
    "**Nome da empresa:** Elegance Homme\n",
    "\n",
    "**Sobre:** É uma empresa no segmento de varejo, especializada em revenda de roupas e acessórios da Calvin Klein para todas as idades. \n",
    "\n",
    "**Objetivo:** Com base nos dados fornecidos pela área de negócio, a equipe de dados deve analisar as preferências de compra dos clientes, categorias de produtos e valores de compra, a fim de identificar os produtos mais populares, segmentos de clientes mais promissores e oportunidades de cross-selling (Promoção de produtos relacionados). A partir disso, a equipe de dados irá desenvolver estratégias personalizadas de marketing e promoções para a campanha de Black Friday 2023, visando aumentar as vendas, a satisfação do cliente e a fidelidade à marca."
   ]
  },
  {
   "cell_type": "markdown",
   "metadata": {
    "application/vnd.databricks.v1+cell": {
     "cellMetadata": {
      "byteLimit": 2048000,
      "rowLimit": 10000
     },
     "inputWidgets": {},
     "nuid": "94db5f09-abf2-4f5c-829b-195a8e4473de",
     "showTitle": false,
     "title": ""
    }
   },
   "source": [
    "#### Significado das colunas:\n",
    "\n",
    "* `User_ID`: Identificador do cliente\n",
    "* `Product_ID`: Identificador do produto\n",
    "* `Genêro`: Genêro (F - Feminino / M - Masculino)\n",
    "* `Idade`: Idade\n",
    "* `Ocupação`: Ocupação\n",
    "* `Categoria_Cidade`: Categoria da cidade (Pequena / Média / Grande)\n",
    "* `Status_Civil`: Status Cívil (Casado / Solteiro)\n",
    "* `Categoria_Produto`: Categoria do produto\n",
    "* `Valor_Compra`: Valor da compra\n",
    "%md"
   ]
  },
  {
   "cell_type": "markdown",
   "metadata": {
    "application/vnd.databricks.v1+cell": {
     "cellMetadata": {
      "byteLimit": 2048000,
      "rowLimit": 10000
     },
     "inputWidgets": {},
     "nuid": "22136f92-6875-4d0d-97aa-8da34bf21b91",
     "showTitle": false,
     "title": ""
    }
   },
   "source": [
    "##### Importando bibliotecas"
   ]
  },
  {
   "cell_type": "code",
   "execution_count": 9,
   "metadata": {
    "application/vnd.databricks.v1+cell": {
     "cellMetadata": {
      "byteLimit": 2048000,
      "rowLimit": 10000
     },
     "inputWidgets": {},
     "nuid": "2e5c45cb-4f18-40a4-aebc-fd235c4e1ef8",
     "showTitle": false,
     "title": ""
    }
   },
   "outputs": [],
   "source": [
    "import pandas as pd\n",
    "import matplotlib.pyplot as plt\n",
    "import seaborn as sns"
   ]
  },
  {
   "cell_type": "markdown",
   "metadata": {
    "application/vnd.databricks.v1+cell": {
     "cellMetadata": {
      "byteLimit": 2048000,
      "rowLimit": 10000
     },
     "inputWidgets": {},
     "nuid": "614e320a-9182-4d36-8ce1-2316af28b051",
     "showTitle": false,
     "title": ""
    }
   },
   "source": [
    "##### Carregando base de dados"
   ]
  },
  {
   "cell_type": "code",
   "execution_count": 10,
   "metadata": {
    "application/vnd.databricks.v1+cell": {
     "cellMetadata": {
      "byteLimit": 2048000,
      "rowLimit": 10000
     },
     "inputWidgets": {},
     "nuid": "d6437753-bf4a-4ea9-98cf-9c36627acb77",
     "showTitle": false,
     "title": ""
    }
   },
   "outputs": [],
   "source": [
    "# Lendo o arquivo \n",
    "#df = spark.read.csv('/FileStore/tables/train.csv', header=True, sep=',')\n",
    "#df = df.toPandas()\n",
    "\n",
    "df = pd.read_csv('retail.csv', sep=';', encoding='latin-1')"
   ]
  },
  {
   "cell_type": "markdown",
   "metadata": {
    "application/vnd.databricks.v1+cell": {
     "cellMetadata": {
      "byteLimit": 2048000,
      "rowLimit": 10000
     },
     "inputWidgets": {},
     "nuid": "e57a6e7f-994a-4ea3-b429-251b7576c18b",
     "showTitle": false,
     "title": ""
    }
   },
   "source": [
    "##### Exploração inicial dos dados"
   ]
  },
  {
   "cell_type": "code",
   "execution_count": 11,
   "metadata": {
    "application/vnd.databricks.v1+cell": {
     "cellMetadata": {
      "byteLimit": 2048000,
      "rowLimit": 10000
     },
     "inputWidgets": {},
     "nuid": "e4e86cda-1da4-432d-9627-f82f06ad40f4",
     "showTitle": false,
     "title": ""
    }
   },
   "outputs": [
    {
     "data": {
      "text/html": [
       "<div>\n",
       "<style scoped>\n",
       "    .dataframe tbody tr th:only-of-type {\n",
       "        vertical-align: middle;\n",
       "    }\n",
       "\n",
       "    .dataframe tbody tr th {\n",
       "        vertical-align: top;\n",
       "    }\n",
       "\n",
       "    .dataframe thead th {\n",
       "        text-align: right;\n",
       "    }\n",
       "</style>\n",
       "<table border=\"1\" class=\"dataframe\">\n",
       "  <thead>\n",
       "    <tr style=\"text-align: right;\">\n",
       "      <th></th>\n",
       "      <th>invoice_no</th>\n",
       "      <th>stock_code</th>\n",
       "      <th>description</th>\n",
       "      <th>quantity</th>\n",
       "      <th>invoice_date</th>\n",
       "      <th>unit_price</th>\n",
       "      <th>customer_id</th>\n",
       "      <th>region</th>\n",
       "    </tr>\n",
       "  </thead>\n",
       "  <tbody>\n",
       "    <tr>\n",
       "      <th>0</th>\n",
       "      <td>536365</td>\n",
       "      <td>85123A</td>\n",
       "      <td>WHITE HANGING HEART T-LIGHT HOLDER</td>\n",
       "      <td>6</td>\n",
       "      <td>01/12/2010 08:26</td>\n",
       "      <td>2,55</td>\n",
       "      <td>17850.0</td>\n",
       "      <td>United Kingdom</td>\n",
       "    </tr>\n",
       "    <tr>\n",
       "      <th>1</th>\n",
       "      <td>536365</td>\n",
       "      <td>71053</td>\n",
       "      <td>WHITE METAL LANTERN</td>\n",
       "      <td>6</td>\n",
       "      <td>01/12/2010 08:26</td>\n",
       "      <td>3,39</td>\n",
       "      <td>17850.0</td>\n",
       "      <td>United Kingdom</td>\n",
       "    </tr>\n",
       "    <tr>\n",
       "      <th>2</th>\n",
       "      <td>536365</td>\n",
       "      <td>84406B</td>\n",
       "      <td>CREAM CUPID HEARTS COAT HANGER</td>\n",
       "      <td>8</td>\n",
       "      <td>01/12/2010 08:26</td>\n",
       "      <td>2,75</td>\n",
       "      <td>17850.0</td>\n",
       "      <td>United Kingdom</td>\n",
       "    </tr>\n",
       "    <tr>\n",
       "      <th>3</th>\n",
       "      <td>536365</td>\n",
       "      <td>84029G</td>\n",
       "      <td>KNITTED UNION FLAG HOT WATER BOTTLE</td>\n",
       "      <td>6</td>\n",
       "      <td>01/12/2010 08:26</td>\n",
       "      <td>3,39</td>\n",
       "      <td>17850.0</td>\n",
       "      <td>United Kingdom</td>\n",
       "    </tr>\n",
       "    <tr>\n",
       "      <th>4</th>\n",
       "      <td>536365</td>\n",
       "      <td>84029E</td>\n",
       "      <td>RED WOOLLY HOTTIE WHITE HEART.</td>\n",
       "      <td>6</td>\n",
       "      <td>01/12/2010 08:26</td>\n",
       "      <td>3,39</td>\n",
       "      <td>17850.0</td>\n",
       "      <td>United Kingdom</td>\n",
       "    </tr>\n",
       "  </tbody>\n",
       "</table>\n",
       "</div>"
      ],
      "text/plain": [
       "  invoice_no stock_code                          description  quantity  \\\n",
       "0     536365     85123A   WHITE HANGING HEART T-LIGHT HOLDER         6   \n",
       "1     536365      71053                  WHITE METAL LANTERN         6   \n",
       "2     536365     84406B       CREAM CUPID HEARTS COAT HANGER         8   \n",
       "3     536365     84029G  KNITTED UNION FLAG HOT WATER BOTTLE         6   \n",
       "4     536365     84029E       RED WOOLLY HOTTIE WHITE HEART.         6   \n",
       "\n",
       "       invoice_date unit_price  customer_id          region  \n",
       "0  01/12/2010 08:26       2,55      17850.0  United Kingdom  \n",
       "1  01/12/2010 08:26       3,39      17850.0  United Kingdom  \n",
       "2  01/12/2010 08:26       2,75      17850.0  United Kingdom  \n",
       "3  01/12/2010 08:26       3,39      17850.0  United Kingdom  \n",
       "4  01/12/2010 08:26       3,39      17850.0  United Kingdom  "
      ]
     },
     "execution_count": 11,
     "metadata": {},
     "output_type": "execute_result"
    }
   ],
   "source": [
    "# Visualizando as primeiras linhas\n",
    "df.head()"
   ]
  },
  {
   "cell_type": "code",
   "execution_count": 12,
   "metadata": {
    "application/vnd.databricks.v1+cell": {
     "cellMetadata": {
      "byteLimit": 2048000,
      "rowLimit": 10000
     },
     "inputWidgets": {},
     "nuid": "7494e89a-70c5-4c6f-9e7d-df2dae38e787",
     "showTitle": false,
     "title": ""
    }
   },
   "outputs": [
    {
     "data": {
      "text/plain": [
       "(541909, 8)"
      ]
     },
     "execution_count": 12,
     "metadata": {},
     "output_type": "execute_result"
    }
   ],
   "source": [
    "# Número de linhas e colunas\n",
    "df.shape"
   ]
  },
  {
   "cell_type": "code",
   "execution_count": 13,
   "metadata": {
    "application/vnd.databricks.v1+cell": {
     "cellMetadata": {
      "byteLimit": 2048000,
      "rowLimit": 10000
     },
     "inputWidgets": {},
     "nuid": "f919fec2-4487-4c04-b3b3-ee012c99c29a",
     "showTitle": false,
     "title": ""
    }
   },
   "outputs": [
    {
     "data": {
      "text/plain": [
       "invoice_no       object\n",
       "stock_code       object\n",
       "description      object\n",
       "quantity          int64\n",
       "invoice_date     object\n",
       "unit_price       object\n",
       "customer_id     float64\n",
       "region           object\n",
       "dtype: object"
      ]
     },
     "execution_count": 13,
     "metadata": {},
     "output_type": "execute_result"
    }
   ],
   "source": [
    "# Tipo de dados\n",
    "df.dtypes"
   ]
  },
  {
   "cell_type": "markdown",
   "metadata": {
    "application/vnd.databricks.v1+cell": {
     "cellMetadata": {
      "byteLimit": 2048000,
      "rowLimit": 10000
     },
     "inputWidgets": {},
     "nuid": "4f284a49-e6ed-4eba-8685-62b351c50e36",
     "showTitle": false,
     "title": ""
    }
   },
   "source": [
    "##### Limpeza e transformação dos dados"
   ]
  },
  {
   "cell_type": "code",
   "execution_count": 14,
   "metadata": {
    "application/vnd.databricks.v1+cell": {
     "cellMetadata": {
      "byteLimit": 2048000,
      "rowLimit": 10000
     },
     "inputWidgets": {},
     "nuid": "c8c777f1-3568-4ce2-90ea-2a232fd064b0",
     "showTitle": false,
     "title": ""
    }
   },
   "outputs": [
    {
     "ename": "KeyError",
     "evalue": "\"['Product_ID', 'Product_Category_2', 'Product_Category_3'] not found in axis\"",
     "output_type": "error",
     "traceback": [
      "\u001b[1;31m---------------------------------------------------------------------------\u001b[0m",
      "\u001b[1;31mKeyError\u001b[0m                                  Traceback (most recent call last)",
      "Cell \u001b[1;32mIn[14], line 3\u001b[0m\n\u001b[0;32m      1\u001b[0m \u001b[38;5;66;03m# Dropando as colunas 'Product_ID', Product_Category_2' e 'Product_Category_3' pois não vamos precisar delas \u001b[39;00m\n\u001b[0;32m      2\u001b[0m \u001b[38;5;66;03m# Vamos nos basear na coluna 'Product_Category_1'\u001b[39;00m\n\u001b[1;32m----> 3\u001b[0m \u001b[43mdf\u001b[49m\u001b[38;5;241;43m.\u001b[39;49m\u001b[43mdrop\u001b[49m\u001b[43m(\u001b[49m\u001b[43m[\u001b[49m\u001b[38;5;124;43m'\u001b[39;49m\u001b[38;5;124;43mProduct_ID\u001b[39;49m\u001b[38;5;124;43m'\u001b[39;49m\u001b[43m,\u001b[49m\u001b[38;5;124;43m'\u001b[39;49m\u001b[38;5;124;43mProduct_Category_2\u001b[39;49m\u001b[38;5;124;43m'\u001b[39;49m\u001b[43m,\u001b[49m\u001b[43m \u001b[49m\u001b[38;5;124;43m'\u001b[39;49m\u001b[38;5;124;43mProduct_Category_3\u001b[39;49m\u001b[38;5;124;43m'\u001b[39;49m\u001b[43m]\u001b[49m\u001b[43m,\u001b[49m\u001b[43m \u001b[49m\u001b[43maxis\u001b[49m\u001b[38;5;241;43m=\u001b[39;49m\u001b[38;5;241;43m1\u001b[39;49m\u001b[43m,\u001b[49m\u001b[43m \u001b[49m\u001b[43minplace\u001b[49m\u001b[38;5;241;43m=\u001b[39;49m\u001b[38;5;28;43;01mTrue\u001b[39;49;00m\u001b[43m)\u001b[49m\n",
      "File \u001b[1;32m~\\anaconda3\\lib\\site-packages\\pandas\\util\\_decorators.py:331\u001b[0m, in \u001b[0;36mdeprecate_nonkeyword_arguments.<locals>.decorate.<locals>.wrapper\u001b[1;34m(*args, **kwargs)\u001b[0m\n\u001b[0;32m    325\u001b[0m \u001b[38;5;28;01mif\u001b[39;00m \u001b[38;5;28mlen\u001b[39m(args) \u001b[38;5;241m>\u001b[39m num_allow_args:\n\u001b[0;32m    326\u001b[0m     warnings\u001b[38;5;241m.\u001b[39mwarn(\n\u001b[0;32m    327\u001b[0m         msg\u001b[38;5;241m.\u001b[39mformat(arguments\u001b[38;5;241m=\u001b[39m_format_argument_list(allow_args)),\n\u001b[0;32m    328\u001b[0m         \u001b[38;5;167;01mFutureWarning\u001b[39;00m,\n\u001b[0;32m    329\u001b[0m         stacklevel\u001b[38;5;241m=\u001b[39mfind_stack_level(),\n\u001b[0;32m    330\u001b[0m     )\n\u001b[1;32m--> 331\u001b[0m \u001b[38;5;28;01mreturn\u001b[39;00m func(\u001b[38;5;241m*\u001b[39margs, \u001b[38;5;241m*\u001b[39m\u001b[38;5;241m*\u001b[39mkwargs)\n",
      "File \u001b[1;32m~\\anaconda3\\lib\\site-packages\\pandas\\core\\frame.py:5399\u001b[0m, in \u001b[0;36mDataFrame.drop\u001b[1;34m(self, labels, axis, index, columns, level, inplace, errors)\u001b[0m\n\u001b[0;32m   5251\u001b[0m \u001b[38;5;129m@deprecate_nonkeyword_arguments\u001b[39m(version\u001b[38;5;241m=\u001b[39m\u001b[38;5;28;01mNone\u001b[39;00m, allowed_args\u001b[38;5;241m=\u001b[39m[\u001b[38;5;124m\"\u001b[39m\u001b[38;5;124mself\u001b[39m\u001b[38;5;124m\"\u001b[39m, \u001b[38;5;124m\"\u001b[39m\u001b[38;5;124mlabels\u001b[39m\u001b[38;5;124m\"\u001b[39m])\n\u001b[0;32m   5252\u001b[0m \u001b[38;5;28;01mdef\u001b[39;00m \u001b[38;5;21mdrop\u001b[39m(  \u001b[38;5;66;03m# type: ignore[override]\u001b[39;00m\n\u001b[0;32m   5253\u001b[0m     \u001b[38;5;28mself\u001b[39m,\n\u001b[1;32m   (...)\u001b[0m\n\u001b[0;32m   5260\u001b[0m     errors: IgnoreRaise \u001b[38;5;241m=\u001b[39m \u001b[38;5;124m\"\u001b[39m\u001b[38;5;124mraise\u001b[39m\u001b[38;5;124m\"\u001b[39m,\n\u001b[0;32m   5261\u001b[0m ) \u001b[38;5;241m-\u001b[39m\u001b[38;5;241m>\u001b[39m DataFrame \u001b[38;5;241m|\u001b[39m \u001b[38;5;28;01mNone\u001b[39;00m:\n\u001b[0;32m   5262\u001b[0m     \u001b[38;5;124;03m\"\"\"\u001b[39;00m\n\u001b[0;32m   5263\u001b[0m \u001b[38;5;124;03m    Drop specified labels from rows or columns.\u001b[39;00m\n\u001b[0;32m   5264\u001b[0m \n\u001b[1;32m   (...)\u001b[0m\n\u001b[0;32m   5397\u001b[0m \u001b[38;5;124;03m            weight  1.0     0.8\u001b[39;00m\n\u001b[0;32m   5398\u001b[0m \u001b[38;5;124;03m    \"\"\"\u001b[39;00m\n\u001b[1;32m-> 5399\u001b[0m     \u001b[38;5;28;01mreturn\u001b[39;00m \u001b[38;5;28;43msuper\u001b[39;49m\u001b[43m(\u001b[49m\u001b[43m)\u001b[49m\u001b[38;5;241;43m.\u001b[39;49m\u001b[43mdrop\u001b[49m\u001b[43m(\u001b[49m\n\u001b[0;32m   5400\u001b[0m \u001b[43m        \u001b[49m\u001b[43mlabels\u001b[49m\u001b[38;5;241;43m=\u001b[39;49m\u001b[43mlabels\u001b[49m\u001b[43m,\u001b[49m\n\u001b[0;32m   5401\u001b[0m \u001b[43m        \u001b[49m\u001b[43maxis\u001b[49m\u001b[38;5;241;43m=\u001b[39;49m\u001b[43maxis\u001b[49m\u001b[43m,\u001b[49m\n\u001b[0;32m   5402\u001b[0m \u001b[43m        \u001b[49m\u001b[43mindex\u001b[49m\u001b[38;5;241;43m=\u001b[39;49m\u001b[43mindex\u001b[49m\u001b[43m,\u001b[49m\n\u001b[0;32m   5403\u001b[0m \u001b[43m        \u001b[49m\u001b[43mcolumns\u001b[49m\u001b[38;5;241;43m=\u001b[39;49m\u001b[43mcolumns\u001b[49m\u001b[43m,\u001b[49m\n\u001b[0;32m   5404\u001b[0m \u001b[43m        \u001b[49m\u001b[43mlevel\u001b[49m\u001b[38;5;241;43m=\u001b[39;49m\u001b[43mlevel\u001b[49m\u001b[43m,\u001b[49m\n\u001b[0;32m   5405\u001b[0m \u001b[43m        \u001b[49m\u001b[43minplace\u001b[49m\u001b[38;5;241;43m=\u001b[39;49m\u001b[43minplace\u001b[49m\u001b[43m,\u001b[49m\n\u001b[0;32m   5406\u001b[0m \u001b[43m        \u001b[49m\u001b[43merrors\u001b[49m\u001b[38;5;241;43m=\u001b[39;49m\u001b[43merrors\u001b[49m\u001b[43m,\u001b[49m\n\u001b[0;32m   5407\u001b[0m \u001b[43m    \u001b[49m\u001b[43m)\u001b[49m\n",
      "File \u001b[1;32m~\\anaconda3\\lib\\site-packages\\pandas\\util\\_decorators.py:331\u001b[0m, in \u001b[0;36mdeprecate_nonkeyword_arguments.<locals>.decorate.<locals>.wrapper\u001b[1;34m(*args, **kwargs)\u001b[0m\n\u001b[0;32m    325\u001b[0m \u001b[38;5;28;01mif\u001b[39;00m \u001b[38;5;28mlen\u001b[39m(args) \u001b[38;5;241m>\u001b[39m num_allow_args:\n\u001b[0;32m    326\u001b[0m     warnings\u001b[38;5;241m.\u001b[39mwarn(\n\u001b[0;32m    327\u001b[0m         msg\u001b[38;5;241m.\u001b[39mformat(arguments\u001b[38;5;241m=\u001b[39m_format_argument_list(allow_args)),\n\u001b[0;32m    328\u001b[0m         \u001b[38;5;167;01mFutureWarning\u001b[39;00m,\n\u001b[0;32m    329\u001b[0m         stacklevel\u001b[38;5;241m=\u001b[39mfind_stack_level(),\n\u001b[0;32m    330\u001b[0m     )\n\u001b[1;32m--> 331\u001b[0m \u001b[38;5;28;01mreturn\u001b[39;00m func(\u001b[38;5;241m*\u001b[39margs, \u001b[38;5;241m*\u001b[39m\u001b[38;5;241m*\u001b[39mkwargs)\n",
      "File \u001b[1;32m~\\anaconda3\\lib\\site-packages\\pandas\\core\\generic.py:4505\u001b[0m, in \u001b[0;36mNDFrame.drop\u001b[1;34m(self, labels, axis, index, columns, level, inplace, errors)\u001b[0m\n\u001b[0;32m   4503\u001b[0m \u001b[38;5;28;01mfor\u001b[39;00m axis, labels \u001b[38;5;129;01min\u001b[39;00m axes\u001b[38;5;241m.\u001b[39mitems():\n\u001b[0;32m   4504\u001b[0m     \u001b[38;5;28;01mif\u001b[39;00m labels \u001b[38;5;129;01mis\u001b[39;00m \u001b[38;5;129;01mnot\u001b[39;00m \u001b[38;5;28;01mNone\u001b[39;00m:\n\u001b[1;32m-> 4505\u001b[0m         obj \u001b[38;5;241m=\u001b[39m \u001b[43mobj\u001b[49m\u001b[38;5;241;43m.\u001b[39;49m\u001b[43m_drop_axis\u001b[49m\u001b[43m(\u001b[49m\u001b[43mlabels\u001b[49m\u001b[43m,\u001b[49m\u001b[43m \u001b[49m\u001b[43maxis\u001b[49m\u001b[43m,\u001b[49m\u001b[43m \u001b[49m\u001b[43mlevel\u001b[49m\u001b[38;5;241;43m=\u001b[39;49m\u001b[43mlevel\u001b[49m\u001b[43m,\u001b[49m\u001b[43m \u001b[49m\u001b[43merrors\u001b[49m\u001b[38;5;241;43m=\u001b[39;49m\u001b[43merrors\u001b[49m\u001b[43m)\u001b[49m\n\u001b[0;32m   4507\u001b[0m \u001b[38;5;28;01mif\u001b[39;00m inplace:\n\u001b[0;32m   4508\u001b[0m     \u001b[38;5;28mself\u001b[39m\u001b[38;5;241m.\u001b[39m_update_inplace(obj)\n",
      "File \u001b[1;32m~\\anaconda3\\lib\\site-packages\\pandas\\core\\generic.py:4546\u001b[0m, in \u001b[0;36mNDFrame._drop_axis\u001b[1;34m(self, labels, axis, level, errors, only_slice)\u001b[0m\n\u001b[0;32m   4544\u001b[0m         new_axis \u001b[38;5;241m=\u001b[39m axis\u001b[38;5;241m.\u001b[39mdrop(labels, level\u001b[38;5;241m=\u001b[39mlevel, errors\u001b[38;5;241m=\u001b[39merrors)\n\u001b[0;32m   4545\u001b[0m     \u001b[38;5;28;01melse\u001b[39;00m:\n\u001b[1;32m-> 4546\u001b[0m         new_axis \u001b[38;5;241m=\u001b[39m \u001b[43maxis\u001b[49m\u001b[38;5;241;43m.\u001b[39;49m\u001b[43mdrop\u001b[49m\u001b[43m(\u001b[49m\u001b[43mlabels\u001b[49m\u001b[43m,\u001b[49m\u001b[43m \u001b[49m\u001b[43merrors\u001b[49m\u001b[38;5;241;43m=\u001b[39;49m\u001b[43merrors\u001b[49m\u001b[43m)\u001b[49m\n\u001b[0;32m   4547\u001b[0m     indexer \u001b[38;5;241m=\u001b[39m axis\u001b[38;5;241m.\u001b[39mget_indexer(new_axis)\n\u001b[0;32m   4549\u001b[0m \u001b[38;5;66;03m# Case for non-unique axis\u001b[39;00m\n\u001b[0;32m   4550\u001b[0m \u001b[38;5;28;01melse\u001b[39;00m:\n",
      "File \u001b[1;32m~\\anaconda3\\lib\\site-packages\\pandas\\core\\indexes\\base.py:6934\u001b[0m, in \u001b[0;36mIndex.drop\u001b[1;34m(self, labels, errors)\u001b[0m\n\u001b[0;32m   6932\u001b[0m \u001b[38;5;28;01mif\u001b[39;00m mask\u001b[38;5;241m.\u001b[39many():\n\u001b[0;32m   6933\u001b[0m     \u001b[38;5;28;01mif\u001b[39;00m errors \u001b[38;5;241m!=\u001b[39m \u001b[38;5;124m\"\u001b[39m\u001b[38;5;124mignore\u001b[39m\u001b[38;5;124m\"\u001b[39m:\n\u001b[1;32m-> 6934\u001b[0m         \u001b[38;5;28;01mraise\u001b[39;00m \u001b[38;5;167;01mKeyError\u001b[39;00m(\u001b[38;5;124mf\u001b[39m\u001b[38;5;124m\"\u001b[39m\u001b[38;5;132;01m{\u001b[39;00m\u001b[38;5;28mlist\u001b[39m(labels[mask])\u001b[38;5;132;01m}\u001b[39;00m\u001b[38;5;124m not found in axis\u001b[39m\u001b[38;5;124m\"\u001b[39m)\n\u001b[0;32m   6935\u001b[0m     indexer \u001b[38;5;241m=\u001b[39m indexer[\u001b[38;5;241m~\u001b[39mmask]\n\u001b[0;32m   6936\u001b[0m \u001b[38;5;28;01mreturn\u001b[39;00m \u001b[38;5;28mself\u001b[39m\u001b[38;5;241m.\u001b[39mdelete(indexer)\n",
      "\u001b[1;31mKeyError\u001b[0m: \"['Product_ID', 'Product_Category_2', 'Product_Category_3'] not found in axis\""
     ]
    }
   ],
   "source": [
    "# Dropando as colunas 'Product_ID', Product_Category_2' e 'Product_Category_3' pois não vamos precisar delas \n",
    "# Vamos nos basear na coluna 'Product_Category_1'\n",
    "df.drop(['Product_ID','Product_Category_2', 'Product_Category_3'], axis=1, inplace=True)"
   ]
  },
  {
   "cell_type": "code",
   "execution_count": null,
   "metadata": {
    "application/vnd.databricks.v1+cell": {
     "cellMetadata": {
      "byteLimit": 2048000,
      "rowLimit": 10000
     },
     "inputWidgets": {},
     "nuid": "83cb781d-a8bf-4505-a974-5357c232d61c",
     "showTitle": false,
     "title": ""
    }
   },
   "outputs": [],
   "source": [
    "# Alterando o nome das colunas \n",
    "df.rename(columns={'Gender' : 'Gênero', 'Age' : 'Idade', 'Occupation' : 'Ocupação', 'City_Category' : 'Categoria_Cidade', 'Stay_In_Current_City_Years' : 'Anos_Na_Cidade', 'Marital_Status' : 'Status_Civil', 'Product_Category_1' : 'Categoria_Produto', 'Purchase' : 'Valor_Compra' }, inplace = True)"
   ]
  },
  {
   "cell_type": "code",
   "execution_count": null,
   "metadata": {
    "application/vnd.databricks.v1+cell": {
     "cellMetadata": {
      "byteLimit": 2048000,
      "rowLimit": 10000
     },
     "inputWidgets": {},
     "nuid": "323b2a39-977c-48fa-b62e-c40b0cebff27",
     "showTitle": false,
     "title": ""
    }
   },
   "outputs": [],
   "source": [
    "# Conferindo \n",
    "df.columns"
   ]
  },
  {
   "cell_type": "markdown",
   "metadata": {
    "application/vnd.databricks.v1+cell": {
     "cellMetadata": {
      "byteLimit": 2048000,
      "rowLimit": 10000
     },
     "inputWidgets": {},
     "nuid": "5080f936-ce99-478e-a31d-bd69590f15bd",
     "showTitle": false,
     "title": ""
    }
   },
   "source": [
    "**Transformando as colunas**\n",
    "\n",
    "- **Ocupação** -> Substituir os valores por lista de ocupações\n",
    "- **Categoria_Cidade** -> Substituir os valores: A - Grande / B - Média / C - Pequena\n",
    "- **Status_Civil** -> Substituir os valores: 0 -> Solteiro / 1 -> Casado\n",
    "- **Categoria_Produto** -> Substituir os valores por lista de categórias\n",
    "- **Valor_Compra** -> Alterar para float"
   ]
  },
  {
   "cell_type": "code",
   "execution_count": null,
   "metadata": {
    "application/vnd.databricks.v1+cell": {
     "cellMetadata": {
      "byteLimit": 2048000,
      "rowLimit": 10000
     },
     "inputWidgets": {},
     "nuid": "ebe641c6-c904-46e9-924a-0cefbdcb0d25",
     "showTitle": false,
     "title": ""
    }
   },
   "outputs": [],
   "source": [
    "# Visualizando a quantidade de valores distintos em cada coluna\n",
    "df.nunique()"
   ]
  },
  {
   "cell_type": "code",
   "execution_count": null,
   "metadata": {
    "application/vnd.databricks.v1+cell": {
     "cellMetadata": {
      "byteLimit": 2048000,
      "rowLimit": 10000
     },
     "inputWidgets": {},
     "nuid": "803cce23-ae6a-4425-9c51-b88a6765b14a",
     "showTitle": false,
     "title": ""
    }
   },
   "outputs": [],
   "source": [
    "# Alterando os valores da coluna 'Ocupação'\n",
    "ocupacoes_nomes = ['Engenheiro', 'Médico', 'Professor', 'Advogado', 'Arquiteto', 'Jornalista', 'Dentista', 'Psicólogo', 'Contador', 'Programador', 'Consultor', 'Farmacêutico', 'Gerente', 'Nutricionista', 'Estilista', 'Designer', 'Tradutor', 'Fisioterapeuta', 'Artista', 'Cientista', 'Terapeuta']\n",
    "     \n",
    "for i in range(21):\n",
    "    df['Ocupação'].replace(str(i), ocupacoes_nomes[i], inplace=True)"
   ]
  },
  {
   "cell_type": "code",
   "execution_count": null,
   "metadata": {
    "application/vnd.databricks.v1+cell": {
     "cellMetadata": {
      "byteLimit": 2048000,
      "rowLimit": 10000
     },
     "inputWidgets": {},
     "nuid": "f43f3dd7-7724-42f1-b5bb-df0cd1816cac",
     "showTitle": false,
     "title": ""
    }
   },
   "outputs": [],
   "source": [
    "# Alterando os valores da coluna 'Categoria_Cidade'   \n",
    "Categoria_Cidade = {\"A\": \"Média\", \"B\": \"Grande\", \"C\": \"Pequena\"}\n",
    "df['Categoria_Cidade'] = df['Categoria_Cidade'].map(Categoria_Cidade)"
   ]
  },
  {
   "cell_type": "code",
   "execution_count": null,
   "metadata": {
    "application/vnd.databricks.v1+cell": {
     "cellMetadata": {
      "byteLimit": 2048000,
      "rowLimit": 10000
     },
     "inputWidgets": {},
     "nuid": "33e3fc42-b6d5-4327-b031-97014da59199",
     "showTitle": false,
     "title": ""
    }
   },
   "outputs": [],
   "source": [
    "# Alterando os valores da coluna 'Status_Civil'\n",
    "Status_Civil = { '0': 'Solteiro', '1': 'Casado'}\n",
    "df['Status_Civil'] = df['Status_Civil'].map(Status_Civil)"
   ]
  },
  {
   "cell_type": "code",
   "execution_count": null,
   "metadata": {
    "application/vnd.databricks.v1+cell": {
     "cellMetadata": {
      "byteLimit": 2048000,
      "rowLimit": 10000
     },
     "inputWidgets": {},
     "nuid": "6e2f2382-6605-471a-b425-b5e7ff4b83e9",
     "showTitle": false,
     "title": ""
    }
   },
   "outputs": [],
   "source": [
    "# Alterando os valores da coluna 'Categoria_Produto_1'\n",
    "categorias = ['Camiseta', 'Calça jeans', 'Bermuda', 'Vestido', 'Blusa', 'Jaqueta', 'Sapato', 'Sapatilha', 'Tênis', 'Cinto', 'Óculos de sol', 'Chapéu', 'Lenço', 'Meia', 'Bolsa', 'Carteira', 'Saia', 'Top', 'Moletom', 'Blazer', 'Gravata']\n",
    "     \n",
    "for i in range(1, 21):\n",
    "    df['Categoria_Produto'].replace(str(i), categorias[i], inplace=True)"
   ]
  },
  {
   "cell_type": "code",
   "execution_count": null,
   "metadata": {
    "application/vnd.databricks.v1+cell": {
     "cellMetadata": {
      "byteLimit": 2048000,
      "rowLimit": 10000
     },
     "inputWidgets": {},
     "nuid": "ee054882-3786-4a33-a1c0-9d34bd36a406",
     "showTitle": false,
     "title": ""
    }
   },
   "outputs": [],
   "source": [
    "# Alterando o tipo da coluna 'Valor_Compra' para float\n",
    "df['Valor_Compra'] = df['Valor_Compra'].astype(float)"
   ]
  },
  {
   "cell_type": "code",
   "execution_count": null,
   "metadata": {
    "application/vnd.databricks.v1+cell": {
     "cellMetadata": {
      "byteLimit": 2048000,
      "rowLimit": 10000
     },
     "inputWidgets": {},
     "nuid": "6eeb9941-075b-4560-805c-dda182820c6f",
     "showTitle": false,
     "title": ""
    }
   },
   "outputs": [],
   "source": [
    "# Visualizando a base após as alterações\n",
    "df.head()"
   ]
  },
  {
   "cell_type": "code",
   "execution_count": null,
   "metadata": {
    "application/vnd.databricks.v1+cell": {
     "cellMetadata": {
      "byteLimit": 2048000,
      "rowLimit": 10000
     },
     "inputWidgets": {},
     "nuid": "edd50b9d-8ae6-4720-ab6d-699d6535332f",
     "showTitle": false,
     "title": ""
    }
   },
   "outputs": [],
   "source": [
    "# Visualizando o tipo de dados \n",
    "print(df.dtypes)"
   ]
  },
  {
   "cell_type": "markdown",
   "metadata": {
    "application/vnd.databricks.v1+cell": {
     "cellMetadata": {
      "byteLimit": 2048000,
      "rowLimit": 10000
     },
     "inputWidgets": {},
     "nuid": "0c1cb8d0-cdbd-4a8d-ba8a-efbe5623b0a4",
     "showTitle": false,
     "title": ""
    }
   },
   "source": [
    "##### Análise exploratória de dados"
   ]
  },
  {
   "cell_type": "markdown",
   "metadata": {
    "application/vnd.databricks.v1+cell": {
     "cellMetadata": {
      "byteLimit": 2048000,
      "rowLimit": 10000
     },
     "inputWidgets": {},
     "nuid": "84fe497c-1c2c-430b-8075-372da47d9b03",
     "showTitle": false,
     "title": ""
    }
   },
   "source": [
    "- Qual é o perfil dos clientes que consomem na Black Friday?"
   ]
  },
  {
   "cell_type": "code",
   "execution_count": null,
   "metadata": {
    "application/vnd.databricks.v1+cell": {
     "cellMetadata": {
      "byteLimit": 2048000,
      "rowLimit": 10000
     },
     "inputWidgets": {},
     "nuid": "e0d0847f-00b8-4b3c-845c-90c9a5d046f4",
     "showTitle": false,
     "title": ""
    }
   },
   "outputs": [],
   "source": [
    " cores = ['blue', 'purple']\n",
    "\n",
    "# Criação da figura e dos subplots\n",
    "fig, axes = plt.subplots(nrows=2, ncols=3, figsize=(20, 14))\n",
    "plt.subplots_adjust(hspace=0.4, wspace=0.4)  # Ajuste do espaçamento vertical e horizontal entre os subplots\n",
    "\n",
    "# Gráfico 1\n",
    "clientes_por_genero = df.groupby('Gênero')['User_ID'].nunique()\n",
    "clientes_por_genero.plot(kind='bar', rot=0, ax=axes[0, 0], color=cores)\n",
    "axes[0, 0].set_xlabel('Gênero')\n",
    "axes[0, 0].set_ylabel('Número de Clientes')\n",
    "axes[0, 0].set_title('Número de Clientes por Gênero')\n",
    "\n",
    "# Gráfico 2\n",
    "sns.countplot(x='Idade', hue='Gênero', data=df, palette=cores, ax=axes[0, 1])\n",
    "axes[0, 1].set_xlabel('Idade')\n",
    "axes[0, 1].set_ylabel('Contagem')\n",
    "axes[0, 1].set_title('Contagem de Gênero por Idade')\n",
    "\n",
    "# Gráfico 3\n",
    "clientes_por_cidade = df.groupby('Categoria_Cidade')['User_ID'].nunique()\n",
    "clientes_por_cidade.plot(kind='bar', rot=0, ax=axes[0, 2], color=cores)\n",
    "axes[0, 2].set_xlabel('Categoria de Cidade')\n",
    "axes[0, 2].set_ylabel('Número de Clientes')\n",
    "axes[0, 2].set_title('Número de Clientes por Categoria de Cidade')\n",
    "\n",
    "# Gráfico 4\n",
    "status_civil_count = df.groupby('Status_Civil')['User_ID'].count()\n",
    "status_civil_count.plot(kind='pie', autopct='%1.1f%%', startangle=90, ax=axes[1, 0], colors=cores)\n",
    "axes[1, 0].set_title('Proporção de Status Civil dos Clientes')\n",
    "\n",
    "# Gráfico 5\n",
    "clientes_por_ocupacao = df.groupby('Ocupação')['User_ID'].nunique()\n",
    "clientes_por_ocupacao.plot(kind='bar', rot=80, color=cores, ax=axes[1, 1])\n",
    "axes[1, 1].set_xlabel('Ocupação')\n",
    "axes[1, 1].set_ylabel('Número de Clientes')\n",
    "axes[1, 1].set_title('Número de Clientes por Ocupação')\n",
    "\n",
    "# Remover o espaço em branco na última posição da linha 2\n",
    "fig.delaxes(axes[1, 2])\n",
    "\n",
    "plt.show()"
   ]
  },
  {
   "cell_type": "markdown",
   "metadata": {
    "application/vnd.databricks.v1+cell": {
     "cellMetadata": {},
     "inputWidgets": {},
     "nuid": "505d2cab-0800-45c3-9992-4905ca4fc1a0",
     "showTitle": false,
     "title": ""
    }
   },
   "source": [
    "**Visando captar mais clientes do gênero feminino, podemos utilizar tais estrátegias:** \n",
    "- Investir em mais produtos voltados para o genêro feminino, tendo a possibilidade de lançar uma coleção próxima a Black Friday com preços mais acessiveis. \n",
    "- Oferecer a promoção: compre uma peça com o valor maior de R$:80 e leve um cinto de brinde. A cliente só vai conseguir resgatar a promoção se preencher um formulário com seus dados pessoais: endereço, idade, e-mail. Dessa forma, vamos armanezar em nossa lista de e-mails e disparar outras promoções semanalmente.  \n",
    "\n",
    "**Com o o objetivo de atingir mais o público das faixas etárias: 0-17 e 18-25, podemos seguir tais estratégias:**\n",
    "\n",
    "- Parcerias com influenciadores: Colaborar com influenciadores populares entre adolescentes e crianças para promover suas ofertas de Black Friday. Os influenciadores podem criar conteúdo autêntico e envolvente, como avaliações de produtos, unboxings e tutoriais, para promover suas promoções.\n",
    "\n",
    "**Para realizarmos mais vendas na categoria de região Média, podemos:**\n",
    "\n",
    "- Oferecer o frete grátis na semana da Black Friday. \n",
    "- Investir em anuncios nessa região, ofertando um cupom de desconto de 20% em nosso site, no qual, o cliente só consegue resgatar preenchendo um formulário com seus dados pessoais. Iremos armanezar em nossa base de dados e disparar e-mails e mensagens por whatsapp com as novidades semanais e promoçoes. \n",
    "\n",
    "**Consideração do estado civil:**\n",
    "- Dado que a maioria dos clientes são solteiros, podemos criar ofertas e anuncios que sejam atraentes para essa categoria de clientes. Por exemplo, ofertas especiais para solteiros, como roupas para sair à noite ou roupas casuais para encontros."
   ]
  },
  {
   "cell_type": "markdown",
   "metadata": {
    "application/vnd.databricks.v1+cell": {
     "cellMetadata": {
      "byteLimit": 2048000,
      "rowLimit": 10000
     },
     "inputWidgets": {},
     "nuid": "fa4f8fd8-c56a-4b9e-942d-5d6bb8047941",
     "showTitle": false,
     "title": ""
    }
   },
   "source": [
    "- Média de gastos por pessoa"
   ]
  },
  {
   "cell_type": "code",
   "execution_count": null,
   "metadata": {
    "application/vnd.databricks.v1+cell": {
     "cellMetadata": {
      "byteLimit": 2048000,
      "rowLimit": 10000
     },
     "inputWidgets": {},
     "nuid": "e13ae3c1-2ef4-48c4-8f3e-8b1de4957dbf",
     "showTitle": false,
     "title": ""
    }
   },
   "outputs": [],
   "source": [
    "df_compra_transacao = df.groupby(\"User_ID\").agg({\"Valor_Compra\": \"mean\"})\n",
    "print(df_compra_transacao)\n",
    "\n",
    "df_compra_transacao.mean()\n",
    "\n",
    "# A média de gastos por pessoa é: R$: 9.568,84"
   ]
  },
  {
   "cell_type": "markdown",
   "metadata": {
    "application/vnd.databricks.v1+cell": {
     "cellMetadata": {
      "byteLimit": 2048000,
      "rowLimit": 10000
     },
     "inputWidgets": {},
     "nuid": "4c13fe37-2c13-4001-a79d-6d1390545b56",
     "showTitle": false,
     "title": ""
    }
   },
   "source": [
    "- Valor dos gastos por faixa de idade"
   ]
  },
  {
   "cell_type": "code",
   "execution_count": null,
   "metadata": {
    "application/vnd.databricks.v1+cell": {
     "cellMetadata": {
      "byteLimit": 2048000,
      "rowLimit": 10000
     },
     "inputWidgets": {},
     "nuid": "04dd150b-02d5-424c-aa7d-0b696d979fce",
     "showTitle": false,
     "title": ""
    }
   },
   "outputs": [],
   "source": [
    "df_idade_gasto = df.groupby('Idade').agg(Gasto_por_Idade=('Valor_Compra', 'sum')).reset_index().sort_values('Gasto_por_Idade', ascending=False)\n",
    "df_idade_gasto.plot(kind='bar', x='Idade', y='Gasto_por_Idade', rot=45)\n",
    "\n",
    "# A faixa etária que trouxe mais receita é: 26-35"
   ]
  },
  {
   "cell_type": "markdown",
   "metadata": {
    "application/vnd.databricks.v1+cell": {
     "cellMetadata": {
      "byteLimit": 2048000,
      "rowLimit": 10000
     },
     "inputWidgets": {},
     "nuid": "7e186469-6174-4aab-86e6-918aa92543c9",
     "showTitle": false,
     "title": ""
    }
   },
   "source": [
    "**Visando manter a maior parte das vendas na faixa etária 26-35 e conseguir impulsionar as outras faixas, podemos:**\n",
    "- Realizar a criação de um cartão fidelidade, que pontua 1 por compra e oferece um brinde quando o cliente completar 10 compras na loja. Incluindo promoções exclusivas."
   ]
  },
  {
   "cell_type": "markdown",
   "metadata": {
    "application/vnd.databricks.v1+cell": {
     "cellMetadata": {
      "byteLimit": 2048000,
      "rowLimit": 10000
     },
     "inputWidgets": {},
     "nuid": "f913dbc0-cb97-4776-9a67-98fa7836f751",
     "showTitle": false,
     "title": ""
    }
   },
   "source": [
    "- Qual a categoria de produto mais vendido por cidade?"
   ]
  },
  {
   "cell_type": "code",
   "execution_count": null,
   "metadata": {
    "application/vnd.databricks.v1+cell": {
     "cellMetadata": {
      "byteLimit": 2048000,
      "rowLimit": 10000
     },
     "inputWidgets": {},
     "nuid": "1afb8b64-351c-4a54-9ccb-8798c100faed",
     "showTitle": false,
     "title": ""
    }
   },
   "outputs": [],
   "source": [
    "plt.figure(figsize=(20, 5)) \n",
    "sns.countplot(x=\"Categoria_Produto\", hue=\"Categoria_Cidade\", data=df)\n",
    "\n",
    "plt.xlabel('Categoria do Produto')\n",
    "plt.ylabel('Contagem')\n",
    "plt.title('Contagem de Cidade por Categoria de Produto')\n",
    "plt.show()\n",
    "\n",
    "# A categoria mais vendida em cidade média é: Jaqueta\n",
    "# A categoria mais vendida em cidade Pequena é: Calça Jeans\n",
    "# A categoria mais vendida em cidade Grande é: Jaqueta"
   ]
  },
  {
   "cell_type": "markdown",
   "metadata": {
    "application/vnd.databricks.v1+cell": {
     "cellMetadata": {},
     "inputWidgets": {},
     "nuid": "a9e37d2f-b70b-4706-90fa-de358a98d0bb",
     "showTitle": false,
     "title": ""
    }
   },
   "source": [
    "**Estratégia para alcançar um número de vendas parecido para todos os produtos:**\n",
    "- Personalizar anuncios elaborados de produtos que menos vendem em cada categoria de cidade que apareçam em destaque quando for realizado uma busca."
   ]
  },
  {
   "cell_type": "markdown",
   "metadata": {
    "application/vnd.databricks.v1+cell": {
     "cellMetadata": {
      "byteLimit": 2048000,
      "rowLimit": 10000
     },
     "inputWidgets": {},
     "nuid": "bd920a91-5123-462b-a60f-9d3a6bd7ab82",
     "showTitle": false,
     "title": ""
    }
   },
   "source": [
    "- Qual a categoria do produto mais vendido?"
   ]
  },
  {
   "cell_type": "code",
   "execution_count": null,
   "metadata": {
    "application/vnd.databricks.v1+cell": {
     "cellMetadata": {
      "byteLimit": 2048000,
      "rowLimit": 10000
     },
     "inputWidgets": {},
     "nuid": "163e8c3b-ac95-4481-94c1-5fe597e1d5a7",
     "showTitle": false,
     "title": ""
    }
   },
   "outputs": [],
   "source": [
    "produto_mais_vendido = df[\"Categoria_Produto\"].value_counts().index[0]\n",
    "print(produto_mais_vendido )\n",
    "\n",
    "# O produto mais vendido, em geral, é: Jaqueta"
   ]
  },
  {
   "cell_type": "markdown",
   "metadata": {
    "application/vnd.databricks.v1+cell": {
     "cellMetadata": {
      "byteLimit": 2048000,
      "rowLimit": 10000
     },
     "inputWidgets": {},
     "nuid": "56a28246-2c8f-4771-9422-8587383b143e",
     "showTitle": false,
     "title": ""
    }
   },
   "source": [
    "- Quais são os 3 produtos mais comprados em Cidade Pequena?"
   ]
  },
  {
   "cell_type": "code",
   "execution_count": null,
   "metadata": {
    "application/vnd.databricks.v1+cell": {
     "cellMetadata": {
      "byteLimit": 2048000,
      "rowLimit": 10000
     },
     "inputWidgets": {},
     "nuid": "a7460622-0d9b-43e2-9b9b-7c002916c2d4",
     "showTitle": false,
     "title": ""
    }
   },
   "outputs": [],
   "source": [
    "df_pequena = df[df['Categoria_Cidade'] == 'Pequena']\n",
    "\n",
    "categorias_produto_mais_compradas = df_pequena['Categoria_Produto'].value_counts()\n",
    "cores = sns.color_palette(n_colors=len(categorias_produto_mais_compradas))\n",
    "categorias_produto_mais_compradas.plot(kind='bar', rot=60, color=cores)\n",
    "\n",
    "plt.xlabel('Categoria de Produto')\n",
    "plt.ylabel('Frequência de Compras')\n",
    "plt.title('Categoria de Produto mais Comprada em Cidades Pequenas')\n",
    "\n",
    "\n",
    "plt.show()\n",
    "# Os 3 produtos mais vendidos em Cidade Pequena são: Calça Jeans, Jaqueta e Tenis"
   ]
  },
  {
   "cell_type": "markdown",
   "metadata": {
    "application/vnd.databricks.v1+cell": {
     "cellMetadata": {},
     "inputWidgets": {},
     "nuid": "72d2d074-de96-4c6c-a94f-a1e0ed1e8257",
     "showTitle": false,
     "title": ""
    }
   },
   "source": [
    "Fizemos essa visualização para identificar qual a ordem dos produtos mais comprados na categoria de região que é predominante no perfil dos clientes."
   ]
  },
  {
   "cell_type": "markdown",
   "metadata": {
    "application/vnd.databricks.v1+cell": {
     "cellMetadata": {
      "byteLimit": 2048000,
      "rowLimit": 10000
     },
     "inputWidgets": {},
     "nuid": "89ac19d1-1ac3-488a-aeb3-54f8cb7f1aa0",
     "showTitle": false,
     "title": ""
    }
   },
   "source": [
    "- Qual o produto mais comprado por cada gênero?"
   ]
  },
  {
   "cell_type": "code",
   "execution_count": null,
   "metadata": {
    "application/vnd.databricks.v1+cell": {
     "cellMetadata": {
      "byteLimit": 2048000,
      "rowLimit": 10000
     },
     "inputWidgets": {},
     "nuid": "00a83456-7d72-4f42-aa15-27573b2556d8",
     "showTitle": false,
     "title": ""
    }
   },
   "outputs": [],
   "source": [
    "plt.figure(figsize=(20, 5)) \n",
    "\n",
    "sns.countplot(x=\"Categoria_Produto\", data=df, hue=\"Gênero\", palette=cores)\n",
    "\n",
    "plt.xlabel('Categoria de Produto')\n",
    "plt.ylabel('Contagem')\n",
    "plt.title('Produtos Comprados por Gênero')\n",
    "plt.xticks(rotation=45, ha='right')\n",
    "\n",
    "\n",
    "plt.show()\n",
    "\n",
    "# A categoria que o gênero Masculino mais adquire é: Calça Jeans\n",
    "# A categoria que o gênero Feminino mais adquire é: Jaqueta"
   ]
  },
  {
   "cell_type": "markdown",
   "metadata": {
    "application/vnd.databricks.v1+cell": {
     "cellMetadata": {
      "byteLimit": 2048000,
      "rowLimit": 10000
     },
     "inputWidgets": {},
     "nuid": "2613c386-edd0-47d0-8f92-011078380738",
     "showTitle": false,
     "title": ""
    }
   },
   "source": [
    "**Visto que a venda de produtos está muito concentrada em Jaqueta, Calça Jeans e Tenis, podemos:**\n",
    "    \n",
    "- Realizar uma parceria com a LIVELO oferecendo um sistema de pontuação quando o cliente adquirir algum dos produtos da lista: Cinto, Gravata, Lenço, Bolsa e Blazer. \n",
    "\n",
    "\n",
    "**Campanha cross-selling:**\n",
    "- Toda vez que o cliente adicionar no carrinho uma Jaqueta e for finalizar a compra, irá aparecer um pop-up ofertando os melhores preços em Calça Jeans e Tenis, com o objetivo de que ele adquira pelo menos mais um item."
   ]
  },
  {
   "cell_type": "markdown",
   "metadata": {
    "application/vnd.databricks.v1+cell": {
     "cellMetadata": {},
     "inputWidgets": {},
     "nuid": "9a6a6451-ed30-45c2-88c3-dc8d8eae4bfe",
     "showTitle": false,
     "title": ""
    }
   },
   "source": [
    "- Qual o produto que mais trouxe lucro e o produto que trouxe menos?"
   ]
  },
  {
   "cell_type": "code",
   "execution_count": null,
   "metadata": {
    "application/vnd.databricks.v1+cell": {
     "cellMetadata": {
      "byteLimit": 2048000,
      "rowLimit": 10000
     },
     "inputWidgets": {},
     "nuid": "976a263d-3f0f-4a19-8458-0016d26c8efd",
     "showTitle": false,
     "title": ""
    }
   },
   "outputs": [],
   "source": [
    "#Valor arrecadado com a venda de cada produto:\n",
    "\n",
    "df.groupby('Categoria_Produto').agg(cidade_gasto=('Valor_Compra', 'sum')).reset_index().sort_values('cidade_gasto', ascending=False)\n",
    "\n",
    "# O produto que mais trouxe lucro foi: Calça Jeans\n",
    "# O produto que menos trouxe lucro foi: Blazer"
   ]
  },
  {
   "cell_type": "code",
   "execution_count": null,
   "metadata": {
    "application/vnd.databricks.v1+cell": {
     "cellMetadata": {
      "byteLimit": 2048000,
      "rowLimit": 10000
     },
     "inputWidgets": {},
     "nuid": "32c71172-f9b8-48ee-9050-890824962ef6",
     "showTitle": false,
     "title": ""
    }
   },
   "outputs": [],
   "source": [
    "produto_por_status_civil = df.groupby(['Categoria_Produto', 'Status_Civil']).size().unstack()\n",
    "\n",
    "ax = produto_por_status_civil.plot(kind='bar', stacked=True, figsize=(10, 6), colormap='RdYlBu')\n",
    "ax.set_title('Categoria de Produto Mais Adquirida por Status Civil', fontsize=16)\n",
    "ax.set_xlabel('Categoria de Produto', fontsize=14)\n",
    "ax.set_ylabel('Quantidade', fontsize=14)\n",
    "ax.legend(title='Status Civil', title_fontsize=12)\n",
    "\n",
    "plt.show()\n"
   ]
  },
  {
   "cell_type": "markdown",
   "metadata": {
    "application/vnd.databricks.v1+cell": {
     "cellMetadata": {
      "byteLimit": 2048000,
      "rowLimit": 10000
     },
     "inputWidgets": {},
     "nuid": "58a2d6c0-f50e-4d36-9696-4a17d3e9bdff",
     "showTitle": false,
     "title": ""
    }
   },
   "source": [
    "**Analisando esse cenário, pensamos em uma estratégia cross-selling para o publico casado:**\n",
    "- Disparar uma campanha \"Aproveite a Black Friday para se vestir bem com o seu amor!\", ofertando 15% de desconto no segundo item, contanto que o conjugue realize um cadastro em nosso site."
   ]
  },
  {
   "cell_type": "markdown",
   "metadata": {
    "application/vnd.databricks.v1+cell": {
     "cellMetadata": {},
     "inputWidgets": {},
     "nuid": "4b785951-ad9a-4465-9ad0-a9b05a38431f",
     "showTitle": false,
     "title": ""
    }
   },
   "source": [
    "**Conclusões gerais:**\n",
    " - Continuar investindo nas Jaquetas,  Calças Jeans e Tênis, pois são os produtos que mais dão lucro;\n",
    " - Fazer campanhas para trazer as pessoas com idade: 46+ e jovens;\n",
    " - Investir em mais anuncios que chamem a atenção das mulheres e em produtos que agradem mais esse público (fazer pesquisa de mercado);\n",
    " - Investir em publicidade nas cidades de porte médio, pois são as cidades que menos trazem receita para a companhia;\n",
    " - Pensar na substituição dos Top's, Cintos e Bolsas, por produtos que o público das cidades tenham mais afinidade. (Produtos menos vendidos)\n",
    " - Como a maior parte dos clientes são de cidades pequenas, podemos pensar na possibilidade de Frete Grátis para essas cidades. (Considerando que por ser afastado o frete geralmente costuma ser mais caro)\n",
    "- Seguindo nessa linha, podemos disparar uma campanha de cross-selling, ou seja, oferecer mais produtos ao cliente, com a tentativa de que o cliente compre mais um ou dois produtos."
   ]
  },
  {
   "cell_type": "markdown",
   "metadata": {
    "application/vnd.databricks.v1+cell": {
     "cellMetadata": {},
     "inputWidgets": {},
     "nuid": "ace799aa-0144-45f4-beb4-d8d7c22263db",
     "showTitle": false,
     "title": ""
    }
   },
   "source": [
    "Base de dados utilizada: https://www.kaggle.com/datasets/pranavuikey/black-friday-sales-eda"
   ]
  }
 ],
 "metadata": {
  "application/vnd.databricks.v1+notebook": {
   "dashboards": [],
   "language": "python",
   "notebookMetadata": {
    "pythonIndentUnit": 4
   },
   "notebookName": "black_friday_vfinal",
   "notebookOrigID": 3964868963301366,
   "widgets": {}
  },
  "kernelspec": {
   "display_name": "Python 3 (ipykernel)",
   "language": "python",
   "name": "python3"
  },
  "language_info": {
   "codemirror_mode": {
    "name": "ipython",
    "version": 3
   },
   "file_extension": ".py",
   "mimetype": "text/x-python",
   "name": "python",
   "nbconvert_exporter": "python",
   "pygments_lexer": "ipython3",
   "version": "3.10.9"
  }
 },
 "nbformat": 4,
 "nbformat_minor": 1
}
